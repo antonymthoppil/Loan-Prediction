{
 "cells": [
  {
   "cell_type": "markdown",
   "metadata": {},
   "source": [
    "# Loan Prediction Problem "
   ]
  },
  {
   "cell_type": "code",
   "execution_count": null,
   "metadata": {},
   "outputs": [],
   "source": [
    "#importing libraries \n",
    "\n",
    "import pandas as pd \n",
    "import numpy as np\n",
    "import seaborn as sn\n",
    "import matplotlib.pyplot as plt\n",
    "from sklearn.impute import SimpleImputer\n",
    "from sklearn.model_selection import train_test_split\n",
    "from sklearn.linear_model import LogisticRegressionCV, SGDClassifier, LogisticRegression\n",
    "from sklearn.metrics import accuracy_score, confusion_matrix\n",
    "from sklearn.ensemble import RandomForestClassifier\n",
    "from sklearn.neighbors import KNeighborsClassifier\n",
    "from sklearn.naive_bayes import GaussianNB"
   ]
  },
  {
   "cell_type": "code",
   "execution_count": null,
   "metadata": {},
   "outputs": [],
   "source": [
    "data = pd.read_csv('C:/Antony Thoppil/Personal/Projects/Loan Prediction/loan-predication/train_u6lujuX_CVtuZ9i.csv')"
   ]
  },
  {
   "cell_type": "code",
   "execution_count": null,
   "metadata": {},
   "outputs": [],
   "source": [
    "data.head()"
   ]
  },
  {
   "cell_type": "code",
   "execution_count": null,
   "metadata": {},
   "outputs": [],
   "source": [
    "data.info()"
   ]
  },
  {
   "cell_type": "code",
   "execution_count": null,
   "metadata": {},
   "outputs": [],
   "source": [
    "#Making copies of the original data set \n",
    "\n",
    "df = data.copy()"
   ]
  },
  {
   "cell_type": "code",
   "execution_count": null,
   "metadata": {},
   "outputs": [],
   "source": [
    "#dropping the variable Loan_ID as it is a unique value and wont add value to the model\n",
    "df.drop(columns='Loan_ID',inplace=True)"
   ]
  },
  {
   "cell_type": "code",
   "execution_count": null,
   "metadata": {},
   "outputs": [],
   "source": [
    "df.info()"
   ]
  },
  {
   "cell_type": "code",
   "execution_count": null,
   "metadata": {},
   "outputs": [],
   "source": [
    "# correlation of numerical variables \n",
    "\n",
    "correlation = df.corr()\n",
    "\n",
    "sn.heatmap(correlation, annot = True)"
   ]
  },
  {
   "cell_type": "code",
   "execution_count": null,
   "metadata": {},
   "outputs": [],
   "source": [
    "# we can see from the correlation matrix that there is a correlation between the loan amount and applicant income.\n",
    "# there is also another intersting observation : there is no correlation between the applicant income and the credit history. "
   ]
  },
  {
   "cell_type": "code",
   "execution_count": null,
   "metadata": {},
   "outputs": [],
   "source": [
    "# to seperate columns with obj dtype \n",
    "\n",
    "obj_cols = [*df.select_dtypes('object').columns]\n",
    "obj_cols.remove('Loan_Status')"
   ]
  },
  {
   "cell_type": "code",
   "execution_count": null,
   "metadata": {},
   "outputs": [],
   "source": [
    "# checking the obj_cols list \n",
    "\n",
    "obj_cols"
   ]
  },
  {
   "cell_type": "code",
   "execution_count": null,
   "metadata": {},
   "outputs": [],
   "source": [
    "plt.figure(figsize =(24,18))\n",
    "\n",
    "for idx,cols in enumerate(obj_cols):\n",
    "    plt.subplot(3,3,idx+1)\n",
    "    sn.countplot(cols, data=df, hue='Loan_Status')"
   ]
  },
  {
   "cell_type": "code",
   "execution_count": null,
   "metadata": {},
   "outputs": [],
   "source": [
    "# Unmarried people having higher proportion of rejection of loan\n",
    "# Non graduates having more rejection of loan \n",
    "# Semi urban has the highest loan approval proportion"
   ]
  },
  {
   "cell_type": "code",
   "execution_count": null,
   "metadata": {},
   "outputs": [],
   "source": [
    "# to seperate integer and float dtypes columns from the data\n",
    "\n",
    "num_cols = [*df.select_dtypes(['Int64','Float64']).columns]"
   ]
  },
  {
   "cell_type": "code",
   "execution_count": null,
   "metadata": {},
   "outputs": [],
   "source": [
    "# checking the list num_cols\n",
    "\n",
    "num_cols"
   ]
  },
  {
   "cell_type": "code",
   "execution_count": null,
   "metadata": {},
   "outputs": [],
   "source": [
    "# as loan amount term and credit history are not continuous variables ; it has to be dropped form the list \n",
    "\n",
    "num_cols.remove('Loan_Amount_Term')\n",
    "num_cols.remove('Credit_History')"
   ]
  },
  {
   "cell_type": "code",
   "execution_count": null,
   "metadata": {},
   "outputs": [],
   "source": [
    "# checking the num cols list again \n",
    "\n",
    "num_cols"
   ]
  },
  {
   "cell_type": "code",
   "execution_count": null,
   "metadata": {},
   "outputs": [],
   "source": [
    "# plotting continous variables \n",
    "\n",
    "plt.figure(figsize=(24,18))\n",
    "count=1\n",
    "\n",
    "for cols in num_cols:\n",
    "    plt.subplot(3,2,count)\n",
    "    sn.boxplot(x='Loan_Status',y=cols, data=df)\n",
    "    count+=1\n",
    "    plt.subplot(3,2,count)\n",
    "    sn.distplot(df.loc[df[cols].notna(),cols])\n",
    "    count+=1"
   ]
  },
  {
   "cell_type": "code",
   "execution_count": null,
   "metadata": {},
   "outputs": [],
   "source": [
    "df.describe()"
   ]
  },
  {
   "cell_type": "code",
   "execution_count": null,
   "metadata": {},
   "outputs": [],
   "source": [
    "df.isna().sum()"
   ]
  },
  {
   "cell_type": "code",
   "execution_count": null,
   "metadata": {},
   "outputs": [],
   "source": [
    "df.Loan_Status.replace({'Y': 0, 'N': 1},inplace=True)"
   ]
  },
  {
   "cell_type": "code",
   "execution_count": null,
   "metadata": {},
   "outputs": [],
   "source": [
    "df['Loan_Status'] = df.Loan_Status.astype(int)"
   ]
  },
  {
   "cell_type": "code",
   "execution_count": null,
   "metadata": {},
   "outputs": [],
   "source": [
    "dummies = pd.get_dummies(df, drop_first = True)"
   ]
  },
  {
   "cell_type": "code",
   "execution_count": null,
   "metadata": {},
   "outputs": [],
   "source": [
    "SimImp = SimpleImputer()\n",
    "\n",
    "train = pd.DataFrame(SimImp.fit_transform(dummies),columns=dummies.columns)"
   ]
  },
  {
   "cell_type": "code",
   "execution_count": null,
   "metadata": {},
   "outputs": [],
   "source": [
    "train.info()"
   ]
  },
  {
   "cell_type": "code",
   "execution_count": null,
   "metadata": {},
   "outputs": [],
   "source": [
    "train.sample(5)"
   ]
  },
  {
   "cell_type": "code",
   "execution_count": null,
   "metadata": {},
   "outputs": [],
   "source": [
    "# making the loan amount term column as binary\n",
    "\n",
    "train['Loan_Amount_360']=np.where(train.Loan_Amount_Term==360,1,0)\n",
    "sn.countplot(y='Loan_Amount_360',data=train,hue='Loan_Status')\n",
    "\n",
    "# we can see that with loan amount 360 being 0 more loan applications are rejected."
   ]
  },
  {
   "cell_type": "code",
   "execution_count": null,
   "metadata": {},
   "outputs": [],
   "source": [
    "# Dropping the Loan_Amount_Term column as we have added a new feature representing the same\n",
    "\n",
    "train.drop('Loan_Amount_Term',inplace=True,axis=1)"
   ]
  },
  {
   "cell_type": "code",
   "execution_count": null,
   "metadata": {},
   "outputs": [],
   "source": [
    "# to check the correlation between all the variables to draw new insights\n",
    "\n",
    "correlationt = train.corr()\n",
    "plt.figure(figsize=(24,18))\n",
    "sn.heatmap(correlationt, annot = True)"
   ]
  },
  {
   "cell_type": "code",
   "execution_count": null,
   "metadata": {},
   "outputs": [],
   "source": [
    "# we can see that there is a high correlation between credit history and loan status "
   ]
  },
  {
   "cell_type": "code",
   "execution_count": null,
   "metadata": {},
   "outputs": [],
   "source": [
    "#Creating train and test set for modelling\n",
    "\n",
    "X,Y = train.drop('Loan_Status',axis=1),train.Loan_Status\n",
    "X_train, X_test, Y_train, Y_test = train_test_split(X,Y,test_size=0.2,random_state=123,stratify=Y)"
   ]
  },
  {
   "cell_type": "code",
   "execution_count": null,
   "metadata": {},
   "outputs": [],
   "source": [
    "## Modelling"
   ]
  },
  {
   "cell_type": "code",
   "execution_count": null,
   "metadata": {},
   "outputs": [],
   "source": [
    "#Logistic Regression \n",
    "\n",
    "logit = LogisticRegressionCV()\n",
    "logit.fit(X_train,Y_train)\n",
    "\n",
    "logit_pred = logit.predict(X_test)\n",
    "print(accuracy_score(Y_test,logit_pred))\n",
    "\n",
    "confusion_matrix(Y_test,logit_pred)"
   ]
  },
  {
   "cell_type": "code",
   "execution_count": null,
   "metadata": {},
   "outputs": [],
   "source": [
    "#Random Forest \n",
    "\n",
    "ranfor = RandomForestClassifier(n_estimators = 100, bootstrap = True, max_features = 'sqrt')\n",
    "\n",
    "ranfor.fit(X_train,Y_train)\n",
    "\n",
    "ranfor_pred = ranfor.predict(X_test)\n",
    "print(accuracy_score(Y_test,ranfor_pred))\n",
    "\n",
    "confusion_matrix(Y_test,ranfor_pred)"
   ]
  },
  {
   "cell_type": "code",
   "execution_count": null,
   "metadata": {},
   "outputs": [],
   "source": [
    "#KNN Neighbours\n",
    "\n",
    "KNN_clas = KNeighborsClassifier(n_neighbors=8)\n",
    "\n",
    "KNN_clas.fit(X_train,Y_train)\n",
    "\n",
    "KNN_pred = KNN_clas.predict(X_test)\n",
    "print(accuracy_score(Y_test,KNN_pred))\n",
    "\n",
    "confusion_matrix(Y_test,KNN_pred)"
   ]
  },
  {
   "cell_type": "code",
   "execution_count": null,
   "metadata": {},
   "outputs": [],
   "source": [
    "#Naive Bayes\n",
    "\n",
    "gnb = GaussianNB()\n",
    "\n",
    "gnb.fit(X_train,Y_train)\n",
    "\n",
    "gnb_pred = gnb.predict(X_test)\n",
    "print(accuracy_score(Y_test,gnb_pred))\n",
    "\n",
    "confusion_matrix(Y_test,gnb_pred)"
   ]
  },
  {
   "cell_type": "code",
   "execution_count": null,
   "metadata": {},
   "outputs": [],
   "source": [
    "# Random Forest gives the best accuracy in terms of percentage \n",
    "# Other reasons why Random Forest outperforms other algorithms. \n",
    "\n",
    "# the important metrics in this problem statement is approving of bad loans\n",
    "# random forest has the least false positive (i.e approving bad loans) and the highest true negative(i.e identifying most loans)"
   ]
  },
  {
   "cell_type": "code",
   "execution_count": null,
   "metadata": {},
   "outputs": [],
   "source": []
  }
 ],
 "metadata": {
  "kernelspec": {
   "display_name": "Python 3",
   "language": "python",
   "name": "python3"
  },
  "language_info": {
   "codemirror_mode": {
    "name": "ipython",
    "version": 3
   },
   "file_extension": ".py",
   "mimetype": "text/x-python",
   "name": "python",
   "nbconvert_exporter": "python",
   "pygments_lexer": "ipython3",
   "version": "3.7.3"
  }
 },
 "nbformat": 4,
 "nbformat_minor": 2
}
